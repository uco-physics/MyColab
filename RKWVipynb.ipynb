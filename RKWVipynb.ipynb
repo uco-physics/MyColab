{
  "nbformat": 4,
  "nbformat_minor": 0,
  "metadata": {
    "colab": {
      "provenance": [],
      "machine_shape": "hm",
      "gpuType": "A100",
      "authorship_tag": "ABX9TyN5WVNdeIHqJWViD0fqq2Mu",
      "include_colab_link": true
    },
    "kernelspec": {
      "name": "python3",
      "display_name": "Python 3"
    },
    "language_info": {
      "name": "python"
    },
    "accelerator": "GPU",
    "gpuClass": "standard"
  },
  "cells": [
    {
      "cell_type": "markdown",
      "metadata": {
        "id": "view-in-github",
        "colab_type": "text"
      },
      "source": [
        "<a href=\"https://colab.research.google.com/github/uco-physics/MyColab/blob/main/RKWVipynb.ipynb\" target=\"_parent\"><img src=\"https://colab.research.google.com/assets/colab-badge.svg\" alt=\"Open In Colab\"/></a>"
      ]
    },
    {
      "cell_type": "code",
      "execution_count": null,
      "metadata": {
        "id": "GYL49oJhGb6D"
      },
      "outputs": [],
      "source": []
    },
    {
      "cell_type": "code",
      "source": [],
      "metadata": {
        "id": "cCwmtKSAGczV"
      },
      "execution_count": null,
      "outputs": []
    },
    {
      "cell_type": "markdown",
      "source": [
        "https://note.com/npaka/n/n59882803a92e"
      ],
      "metadata": {
        "id": "8lUZsHRXGc-H"
      }
    },
    {
      "cell_type": "code",
      "source": [
        "# Googleドライブのマウント\n",
        "from google.colab import drive\n",
        "drive.mount('/content/drive')"
      ],
      "metadata": {
        "colab": {
          "base_uri": "https://localhost:8080/"
        },
        "id": "vQsURNVBGh4n",
        "outputId": "9bc443ba-e72e-4285-86dc-92739a30fa20"
      },
      "execution_count": 2,
      "outputs": [
        {
          "output_type": "stream",
          "name": "stdout",
          "text": [
            "Mounted at /content/drive\n"
          ]
        }
      ]
    },
    {
      "cell_type": "code",
      "source": [
        "# 作業フォルダへの移動\n",
        "import os\n",
        "os.makedirs(\"/content/drive/My Drive/work\", exist_ok=True)\n",
        "%cd '/content/drive/My Drive/work'"
      ],
      "metadata": {
        "colab": {
          "base_uri": "https://localhost:8080/"
        },
        "id": "OGr3rl5BGl-Q",
        "outputId": "34108118-ac9d-4ace-8f31-32035b404e14"
      },
      "execution_count": 3,
      "outputs": [
        {
          "output_type": "stream",
          "name": "stdout",
          "text": [
            "/content/drive/My Drive/work\n"
          ]
        }
      ]
    },
    {
      "cell_type": "code",
      "source": [
        "!curl -s https://packagecloud.io/install/repositories/github/git-lfs/script.deb.sh | sudo bash\n",
        "!sudo apt-get install git-lfs\n",
        "!git lfs install\n",
        "\n",
        "from google.colab import drive"
      ],
      "metadata": {
        "colab": {
          "base_uri": "https://localhost:8080/"
        },
        "id": "wV7iNF32IP3t",
        "outputId": "d053225f-c2f0-4844-b1f7-df29a1fd122d"
      },
      "execution_count": 4,
      "outputs": [
        {
          "output_type": "stream",
          "name": "stdout",
          "text": [
            "Detected operating system as Ubuntu/focal.\n",
            "Checking for curl...\n",
            "Detected curl...\n",
            "Checking for gpg...\n",
            "Detected gpg...\n",
            "Detected apt version as 2.0.9\n",
            "Running apt-get update... done.\n",
            "Installing apt-transport-https... done.\n",
            "Installing /etc/apt/sources.list.d/github_git-lfs.list...done.\n",
            "Importing packagecloud gpg key... Packagecloud gpg key imported to /etc/apt/keyrings/github_git-lfs-archive-keyring.gpg\n",
            "done.\n",
            "Running apt-get update... done.\n",
            "\n",
            "The repository is setup! You can now install packages.\n",
            "Reading package lists... Done\n",
            "Building dependency tree       \n",
            "Reading state information... Done\n",
            "The following packages will be upgraded:\n",
            "  git-lfs\n",
            "1 upgraded, 0 newly installed, 0 to remove and 35 not upgraded.\n",
            "Need to get 7,419 kB of archives.\n",
            "After this operation, 4,936 kB of additional disk space will be used.\n",
            "Get:1 https://packagecloud.io/github/git-lfs/ubuntu focal/main amd64 git-lfs amd64 3.3.0 [7,419 kB]\n",
            "Fetched 7,419 kB in 1s (8,389 kB/s)\n",
            "debconf: unable to initialize frontend: Dialog\n",
            "debconf: (No usable dialog-like program is installed, so the dialog based frontend cannot be used. at /usr/share/perl5/Debconf/FrontEnd/Dialog.pm line 76, <> line 1.)\n",
            "debconf: falling back to frontend: Readline\n",
            "debconf: unable to initialize frontend: Readline\n",
            "debconf: (This frontend requires a controlling tty.)\n",
            "debconf: falling back to frontend: Teletype\n",
            "dpkg-preconfigure: unable to re-open stdin: \n",
            "(Reading database ... 122522 files and directories currently installed.)\n",
            "Preparing to unpack .../git-lfs_3.3.0_amd64.deb ...\n",
            "Unpacking git-lfs (3.3.0) over (2.9.2-1) ...\n",
            "Setting up git-lfs (3.3.0) ...\n",
            "Git LFS initialized.\n",
            "Processing triggers for man-db (2.9.1-1) ...\n",
            "Git LFS initialized.\n"
          ]
        }
      ]
    },
    {
      "cell_type": "code",
      "source": [],
      "metadata": {
        "id": "YJw0keAkLYlT"
      },
      "execution_count": null,
      "outputs": []
    },
    {
      "cell_type": "code",
      "source": [
        "!pwd"
      ],
      "metadata": {
        "colab": {
          "base_uri": "https://localhost:8080/"
        },
        "id": "1nRBO5RtKPm1",
        "outputId": "69af37c0-8c90-4764-9a60-212ca379bda4"
      },
      "execution_count": 10,
      "outputs": [
        {
          "output_type": "stream",
          "name": "stdout",
          "text": [
            "/content/drive/MyDrive/work\n"
          ]
        }
      ]
    },
    {
      "cell_type": "code",
      "source": [
        "!pip install huggingface_hub"
      ],
      "metadata": {
        "colab": {
          "base_uri": "https://localhost:8080/"
        },
        "id": "sVKrm1eHLecr",
        "outputId": "1425f911-2230-422f-967c-e5cec21758a9"
      },
      "execution_count": 17,
      "outputs": [
        {
          "output_type": "stream",
          "name": "stdout",
          "text": [
            "Looking in indexes: https://pypi.org/simple, https://us-python.pkg.dev/colab-wheels/public/simple/\n",
            "Collecting huggingface_hub\n",
            "  Downloading huggingface_hub-0.14.1-py3-none-any.whl (224 kB)\n",
            "\u001b[2K     \u001b[90m━━━━━━━━━━━━━━━━━━━━━━━━━━━━━━━━━━━━━━\u001b[0m \u001b[32m224.5/224.5 kB\u001b[0m \u001b[31m21.0 MB/s\u001b[0m eta \u001b[36m0:00:00\u001b[0m\n",
            "\u001b[?25hRequirement already satisfied: filelock in /usr/local/lib/python3.10/dist-packages (from huggingface_hub) (3.12.0)\n",
            "Requirement already satisfied: fsspec in /usr/local/lib/python3.10/dist-packages (from huggingface_hub) (2023.4.0)\n",
            "Requirement already satisfied: requests in /usr/local/lib/python3.10/dist-packages (from huggingface_hub) (2.27.1)\n",
            "Requirement already satisfied: tqdm>=4.42.1 in /usr/local/lib/python3.10/dist-packages (from huggingface_hub) (4.65.0)\n",
            "Requirement already satisfied: pyyaml>=5.1 in /usr/local/lib/python3.10/dist-packages (from huggingface_hub) (6.0)\n",
            "Requirement already satisfied: typing-extensions>=3.7.4.3 in /usr/local/lib/python3.10/dist-packages (from huggingface_hub) (4.5.0)\n",
            "Requirement already satisfied: packaging>=20.9 in /usr/local/lib/python3.10/dist-packages (from huggingface_hub) (23.1)\n",
            "Requirement already satisfied: urllib3<1.27,>=1.21.1 in /usr/local/lib/python3.10/dist-packages (from requests->huggingface_hub) (1.26.15)\n",
            "Requirement already satisfied: certifi>=2017.4.17 in /usr/local/lib/python3.10/dist-packages (from requests->huggingface_hub) (2022.12.7)\n",
            "Requirement already satisfied: charset-normalizer~=2.0.0 in /usr/local/lib/python3.10/dist-packages (from requests->huggingface_hub) (2.0.12)\n",
            "Requirement already satisfied: idna<4,>=2.5 in /usr/local/lib/python3.10/dist-packages (from requests->huggingface_hub) (3.4)\n",
            "Installing collected packages: huggingface_hub\n",
            "Successfully installed huggingface_hub-0.14.1\n"
          ]
        }
      ]
    },
    {
      "cell_type": "code",
      "source": [
        "from huggingface_hub import hf_hub_url"
      ],
      "metadata": {
        "id": "BDCc4MopLcXV"
      },
      "execution_count": 19,
      "outputs": []
    },
    {
      "cell_type": "code",
      "source": [
        "url = hf_hub_url(repo_id= \"BlinkDL/rwkv-4-raven\" , filename= \"RWKV-4-Raven-7B-v7-Eng-20230404-ctx4096.pth\" )\n"
      ],
      "metadata": {
        "id": "47zcXgXrL9sE"
      },
      "execution_count": 21,
      "outputs": []
    },
    {
      "cell_type": "code",
      "source": [
        "print(url)"
      ],
      "metadata": {
        "colab": {
          "base_uri": "https://localhost:8080/"
        },
        "id": "ylUcq4mGM02f",
        "outputId": "4b699466-8e43-4015-9b55-20ab146282e9"
      },
      "execution_count": 22,
      "outputs": [
        {
          "output_type": "stream",
          "name": "stdout",
          "text": [
            "https://huggingface.co/BlinkDL/rwkv-4-raven/resolve/main/RWKV-4-Raven-7B-v7-Eng-20230404-ctx4096.pth\n"
          ]
        }
      ]
    },
    {
      "cell_type": "code",
      "source": [
        "!wget https://huggingface.co/BlinkDL/rwkv-4-raven/resolve/main/RWKV-4-Raven-7B-v7-Eng-20230404-ctx4096.pth"
      ],
      "metadata": {
        "colab": {
          "base_uri": "https://localhost:8080/"
        },
        "id": "AkUrr2dwOpt4",
        "outputId": "9584c911-fdab-4ebc-b09d-e6d6c6cfdd5f"
      },
      "execution_count": 23,
      "outputs": [
        {
          "output_type": "stream",
          "name": "stdout",
          "text": [
            "--2023-05-11 00:34:11--  https://huggingface.co/BlinkDL/rwkv-4-raven/resolve/main/RWKV-4-Raven-7B-v7-Eng-20230404-ctx4096.pth\n",
            "Resolving huggingface.co (huggingface.co)... 18.155.68.44, 18.155.68.121, 18.155.68.116, ...\n",
            "Connecting to huggingface.co (huggingface.co)|18.155.68.44|:443... connected.\n",
            "HTTP request sent, awaiting response... 302 Found\n",
            "Location: https://cdn-lfs.huggingface.co/repos/41/55/4155c7aaff64e0f4b926df1a8fff201f8ee3653c39ba67b31e4973ae97828633/e53ce267a7a357dd65b048a7813cb8e9e5af82ac3eef218837a33e406908e964?response-content-disposition=attachment%3B+filename*%3DUTF-8%27%27RWKV-4-Raven-7B-v7-Eng-20230404-ctx4096.pth%3B+filename%3D%22RWKV-4-Raven-7B-v7-Eng-20230404-ctx4096.pth%22%3B&Expires=1684024451&Policy=eyJTdGF0ZW1lbnQiOlt7IlJlc291cmNlIjoiaHR0cHM6Ly9jZG4tbGZzLmh1Z2dpbmdmYWNlLmNvL3JlcG9zLzQxLzU1LzQxNTVjN2FhZmY2NGUwZjRiOTI2ZGYxYThmZmYyMDFmOGVlMzY1M2MzOWJhNjdiMzFlNDk3M2FlOTc4Mjg2MzMvZTUzY2UyNjdhN2EzNTdkZDY1YjA0OGE3ODEzY2I4ZTllNWFmODJhYzNlZWYyMTg4MzdhMzNlNDA2OTA4ZTk2ND9yZXNwb25zZS1jb250ZW50LWRpc3Bvc2l0aW9uPSoiLCJDb25kaXRpb24iOnsiRGF0ZUxlc3NUaGFuIjp7IkFXUzpFcG9jaFRpbWUiOjE2ODQwMjQ0NTF9fX1dfQ__&Signature=gL7KkYvCi%7EW1aBAenkR8sTUxW1rV9SyweehLhIUleEWwe9uFNfnv8HHKYjt%7EpSz4t9veukYX5flBQcdCA0-dRmjBcDUUuTDjy73kAAybjQuvtpwIOPaEtXvRomQHHleggRzw32m--GqJJnlGiP6pCiNoHrRFrCHUVLqgQXEYvnMFMXE7IcOcWyAbdtK6iclL0Q5G%7EDt16Es8eqlsWNHwsp2I8ixn83HcBL7rQwxovjzeTgFvn3PwGXs%7Ey-RxbIApyGhmBV62gBoxUJyvnwaEiTl%7E5WfhzyzpSq4rjQXeMSMtYa66-3pj-GOBp7AVr4gs90FQyhvpix1%7Ed7C3sJ9FSg__&Key-Pair-Id=KVTP0A1DKRTAX [following]\n",
            "--2023-05-11 00:34:11--  https://cdn-lfs.huggingface.co/repos/41/55/4155c7aaff64e0f4b926df1a8fff201f8ee3653c39ba67b31e4973ae97828633/e53ce267a7a357dd65b048a7813cb8e9e5af82ac3eef218837a33e406908e964?response-content-disposition=attachment%3B+filename*%3DUTF-8%27%27RWKV-4-Raven-7B-v7-Eng-20230404-ctx4096.pth%3B+filename%3D%22RWKV-4-Raven-7B-v7-Eng-20230404-ctx4096.pth%22%3B&Expires=1684024451&Policy=eyJTdGF0ZW1lbnQiOlt7IlJlc291cmNlIjoiaHR0cHM6Ly9jZG4tbGZzLmh1Z2dpbmdmYWNlLmNvL3JlcG9zLzQxLzU1LzQxNTVjN2FhZmY2NGUwZjRiOTI2ZGYxYThmZmYyMDFmOGVlMzY1M2MzOWJhNjdiMzFlNDk3M2FlOTc4Mjg2MzMvZTUzY2UyNjdhN2EzNTdkZDY1YjA0OGE3ODEzY2I4ZTllNWFmODJhYzNlZWYyMTg4MzdhMzNlNDA2OTA4ZTk2ND9yZXNwb25zZS1jb250ZW50LWRpc3Bvc2l0aW9uPSoiLCJDb25kaXRpb24iOnsiRGF0ZUxlc3NUaGFuIjp7IkFXUzpFcG9jaFRpbWUiOjE2ODQwMjQ0NTF9fX1dfQ__&Signature=gL7KkYvCi%7EW1aBAenkR8sTUxW1rV9SyweehLhIUleEWwe9uFNfnv8HHKYjt%7EpSz4t9veukYX5flBQcdCA0-dRmjBcDUUuTDjy73kAAybjQuvtpwIOPaEtXvRomQHHleggRzw32m--GqJJnlGiP6pCiNoHrRFrCHUVLqgQXEYvnMFMXE7IcOcWyAbdtK6iclL0Q5G%7EDt16Es8eqlsWNHwsp2I8ixn83HcBL7rQwxovjzeTgFvn3PwGXs%7Ey-RxbIApyGhmBV62gBoxUJyvnwaEiTl%7E5WfhzyzpSq4rjQXeMSMtYa66-3pj-GOBp7AVr4gs90FQyhvpix1%7Ed7C3sJ9FSg__&Key-Pair-Id=KVTP0A1DKRTAX\n",
            "Resolving cdn-lfs.huggingface.co (cdn-lfs.huggingface.co)... 18.155.68.98, 18.155.68.73, 18.155.68.94, ...\n",
            "Connecting to cdn-lfs.huggingface.co (cdn-lfs.huggingface.co)|18.155.68.98|:443... connected.\n",
            "HTTP request sent, awaiting response... 200 OK\n",
            "Length: 14785389618 (14G) [binary/octet-stream]\n",
            "Saving to: ‘RWKV-4-Raven-7B-v7-Eng-20230404-ctx4096.pth’\n",
            "\n",
            "RWKV-4-Raven-7B-v7- 100%[===================>]  13.77G  18.3MB/s    in 13m 32s \n",
            "\n",
            "2023-05-11 00:47:45 (17.4 MB/s) - ‘RWKV-4-Raven-7B-v7-Eng-20230404-ctx4096.pth’ saved [14785389618/14785389618]\n",
            "\n"
          ]
        }
      ]
    },
    {
      "cell_type": "code",
      "source": [
        "!wget https://raw.githubusercontent.com/BlinkDL/ChatRWKV/main/20B_tokenizer.json"
      ],
      "metadata": {
        "colab": {
          "base_uri": "https://localhost:8080/"
        },
        "id": "PDEuFvC1R45X",
        "outputId": "4fcd4f13-d3cb-4ba8-83ea-500d11248b46"
      },
      "execution_count": 24,
      "outputs": [
        {
          "output_type": "stream",
          "name": "stdout",
          "text": [
            "--2023-05-11 00:48:58--  https://raw.githubusercontent.com/BlinkDL/ChatRWKV/main/20B_tokenizer.json\n",
            "Resolving raw.githubusercontent.com (raw.githubusercontent.com)... 185.199.108.133, 185.199.109.133, 185.199.110.133, ...\n",
            "Connecting to raw.githubusercontent.com (raw.githubusercontent.com)|185.199.108.133|:443... connected.\n",
            "HTTP request sent, awaiting response... 200 OK\n",
            "Length: 2467981 (2.4M) [text/plain]\n",
            "Saving to: ‘20B_tokenizer.json’\n",
            "\n",
            "20B_tokenizer.json  100%[===================>]   2.35M  --.-KB/s    in 0.03s   \n",
            "\n",
            "2023-05-11 00:48:58 (81.5 MB/s) - ‘20B_tokenizer.json’ saved [2467981/2467981]\n",
            "\n"
          ]
        }
      ]
    },
    {
      "cell_type": "code",
      "source": [
        "# パッケージのインストール\n",
        "!pip install rwkv"
      ],
      "metadata": {
        "colab": {
          "base_uri": "https://localhost:8080/"
        },
        "id": "B2bw_3hvSQhW",
        "outputId": "e828d6b1-0ac1-4773-90a6-347d206561df"
      },
      "execution_count": 25,
      "outputs": [
        {
          "output_type": "stream",
          "name": "stdout",
          "text": [
            "Looking in indexes: https://pypi.org/simple, https://us-python.pkg.dev/colab-wheels/public/simple/\n",
            "Collecting rwkv\n",
            "  Downloading rwkv-0.7.3-py3-none-any.whl (16 kB)\n",
            "Collecting tokenizers>=0.13.2 (from rwkv)\n",
            "  Downloading tokenizers-0.13.3-cp310-cp310-manylinux_2_17_x86_64.manylinux2014_x86_64.whl (7.8 MB)\n",
            "\u001b[2K     \u001b[90m━━━━━━━━━━━━━━━━━━━━━━━━━━━━━━━━━━━━━━━━\u001b[0m \u001b[32m7.8/7.8 MB\u001b[0m \u001b[31m103.4 MB/s\u001b[0m eta \u001b[36m0:00:00\u001b[0m\n",
            "\u001b[?25hInstalling collected packages: tokenizers, rwkv\n",
            "Successfully installed rwkv-0.7.3 tokenizers-0.13.3\n"
          ]
        }
      ]
    },
    {
      "cell_type": "code",
      "source": [
        "# 環境変数の準備\n",
        "import os\n",
        "os.environ['RWKV_JIT_ON'] = '1'\n",
        "os.environ[\"RWKV_CUDA_ON\"] = '0'"
      ],
      "metadata": {
        "id": "9xXLNupqSU0y"
      },
      "execution_count": 26,
      "outputs": []
    },
    {
      "cell_type": "code",
      "source": [
        "from rwkv.model import RWKV\n",
        "from rwkv.utils import PIPELINE, PIPELINE_ARGS\n",
        "\n",
        "# モデルとパイプラインの準備\n",
        "model = RWKV(\n",
        "    model=\"./RWKV-4-Raven-7B-v7-Eng-20230404-ctx4096.pth\", \n",
        "    strategy=\"cuda fp16\")\n",
        "pipeline = PIPELINE(model, \"./20B_tokenizer.json\")"
      ],
      "metadata": {
        "colab": {
          "base_uri": "https://localhost:8080/",
          "height": 853
        },
        "id": "fsLl1l5VSZuB",
        "outputId": "123aeece-ba05-4bac-ffd3-6156edf1cdc2"
      },
      "execution_count": 28,
      "outputs": [
        {
          "output_type": "stream",
          "name": "stdout",
          "text": [
            "RWKV_JIT_ON 1 RWKV_CUDA_ON 0 RESCALE_LAYER 6\n",
            "\n",
            "Loading ./RWKV-4-Raven-7B-v7-Eng-20230404-ctx4096.pth ...\n",
            "Strategy: (total 32+1=33 layers)\n",
            "* cuda [float16, float16], store 33 layers\n",
            "0-cuda-float16-float16 1-cuda-float16-float16 2-cuda-float16-float16 3-cuda-float16-float16 4-cuda-float16-float16 5-cuda-float16-float16 6-cuda-float16-float16 7-cuda-float16-float16 8-cuda-float16-float16 9-cuda-float16-float16 10-cuda-float16-float16 11-cuda-float16-float16 12-cuda-float16-float16 13-cuda-float16-float16 14-cuda-float16-float16 15-cuda-float16-float16 16-cuda-float16-float16 17-cuda-float16-float16 18-cuda-float16-float16 19-cuda-float16-float16 20-cuda-float16-float16 21-cuda-float16-float16 22-cuda-float16-float16 23-cuda-float16-float16 24-cuda-float16-float16 25-cuda-float16-float16 26-cuda-float16-float16 27-cuda-float16-float16 28-cuda-float16-float16 29-cuda-float16-float16 30-cuda-float16-float16 31-cuda-float16-float16 32-cuda-float16-float16 \n",
            "emb.weight                        f16      cpu  50277  4096 \n",
            "blocks.0.ln1.weight               f16   cuda:0   4096       \n",
            "blocks.0.ln1.bias                 f16   cuda:0   4096       \n",
            "blocks.0.ln2.weight               f16   cuda:0   4096       \n",
            "blocks.0.ln2.bias                 f16   cuda:0   4096       \n",
            "blocks.0.att.time_decay           f32   cuda:0   4096       \n",
            "blocks.0.att.time_first           f32   cuda:0   4096       \n",
            "blocks.0.att.time_mix_k           f16   cuda:0   4096       \n",
            "blocks.0.att.time_mix_v           f16   cuda:0   4096       \n",
            "blocks.0.att.time_mix_r           f16   cuda:0   4096       \n",
            "blocks.0.att.key.weight           f16   cuda:0   4096  4096 \n",
            "blocks.0.att.value.weight         f16   cuda:0   4096  4096 \n",
            "blocks.0.att.receptance.weight    f16   cuda:0   4096  4096 \n",
            "blocks.0.att.output.weight        f16   cuda:0   4096  4096 \n",
            "blocks.0.ffn.time_mix_k           f16   cuda:0   4096       \n",
            "blocks.0.ffn.time_mix_r           f16   cuda:0   4096       \n",
            "blocks.0.ffn.key.weight           f16   cuda:0   4096 16384 \n",
            "blocks.0.ffn.receptance.weight    f16   cuda:0   4096  4096 \n",
            "blocks.0.ffn.value.weight         f16   cuda:0  16384  4096 \n",
            "............................................................................................................................................................................................................................................................................................................................................................................................................................................................................................................................................................\n",
            "blocks.31.ln1.weight              f16   cuda:0   4096       \n",
            "blocks.31.ln1.bias                f16   cuda:0   4096       \n",
            "blocks.31.ln2.weight              f16   cuda:0   4096       \n",
            "blocks.31.ln2.bias                f16   cuda:0   4096       \n",
            "blocks.31.att.time_decay          f32   cuda:0   4096       \n",
            "blocks.31.att.time_first          f32   cuda:0   4096       \n",
            "blocks.31.att.time_mix_k          f16   cuda:0   4096       \n",
            "blocks.31.att.time_mix_v          f16   cuda:0   4096       \n",
            "blocks.31.att.time_mix_r          f16   cuda:0   4096       \n",
            "blocks.31.att.key.weight          f16   cuda:0   4096  4096 \n",
            "blocks.31.att.value.weight        f16   cuda:0   4096  4096 \n",
            "blocks.31.att.receptance.weight   f16   cuda:0   4096  4096 \n",
            "blocks.31.att.output.weight       f16   cuda:0   4096  4096 \n",
            "blocks.31.ffn.time_mix_k          f16   cuda:0   4096       \n",
            "blocks.31.ffn.time_mix_r          f16   cuda:0   4096       \n",
            "blocks.31.ffn.key.weight          f16   cuda:0   4096 16384 \n",
            "blocks.31.ffn.receptance.weight   f16   cuda:0   4096  4096 \n",
            "blocks.31.ffn.value.weight        f16   cuda:0  16384  4096 \n",
            "ln_out.weight                     f16   cuda:0   4096       \n",
            "ln_out.bias                       f16   cuda:0   4096       \n",
            "head.weight                       f16   cuda:0   4096 50277 \n"
          ]
        }
      ]
    },
    {
      "cell_type": "code",
      "source": [
        "# パイプライン引数の準備\n",
        "args = PIPELINE_ARGS(\n",
        "    temperature = 1.0,\n",
        "    top_p = 0.7, \n",
        "    top_k = 100, \n",
        "    alpha_frequency = 0.25, \n",
        "    alpha_presence = 0.25, \n",
        "    token_ban = [],\n",
        "    token_stop = [0],\n",
        "    chunk_len = 256) "
      ],
      "metadata": {
        "id": "QKucw0a3TLXN"
      },
      "execution_count": 29,
      "outputs": []
    },
    {
      "cell_type": "code",
      "source": [
        "# Instructプロンプトの生成\n",
        "def generate_prompt(instruction, input=None):\n",
        "    if input:\n",
        "        return f\"\"\"Below is an instruction that describes a task, paired with an input that provides further context. Write a response that appropriately completes the request.\n",
        "\n",
        "# Instruction:\n",
        "{instruction}\n",
        "\n",
        "# Input:\n",
        "{input}\n",
        "\n",
        "# Response:\n",
        "\"\"\"\n",
        "    else:\n",
        "        return f\"\"\"Below is an instruction that describes a task. Write a response that appropriately completes the request.\n",
        "\n",
        "# Instruction:\n",
        "{instruction}\n",
        "\n",
        "# Response:\n",
        "\"\"\""
      ],
      "metadata": {
        "id": "cOmtvjbcTOL5"
      },
      "execution_count": 30,
      "outputs": []
    },
    {
      "cell_type": "code",
      "source": [
        "# プロンプトの準備\n",
        "prompt = \"日本で一番人気のアニメは？\"\n",
        "print(prompt)\n",
        "\n",
        "# Instructプロンプトの生成\n",
        "prompt = generate_prompt(\"日本で一番人気のアニメは？\")\n",
        "print(\"--[prompt]--\\n\" + prompt + \"----\")\n",
        "\n",
        "# パイプラインの実行\n",
        "result = pipeline.generate(prompt, token_count=200, args=args)\n",
        "print(result)"
      ],
      "metadata": {
        "colab": {
          "base_uri": "https://localhost:8080/"
        },
        "id": "J1pNtecoTRLZ",
        "outputId": "43a731fe-20bc-4b5a-c176-4fa54de1cd3f"
      },
      "execution_count": 31,
      "outputs": [
        {
          "output_type": "stream",
          "name": "stdout",
          "text": [
            "日本で一番人気のアニメは？\n",
            "--[prompt]--\n",
            "Below is an instruction that describes a task. Write a response that appropriately completes the request.\n",
            "\n",
            "# Instruction:\n",
            "日本で一番人気のアニメは？\n",
            "\n",
            "# Response:\n",
            "----\n",
            "アニメの人気は日本にとって異例なものです。一般的なアニメは、海外で流行っているものを日本でも大勢が観ているようです。特に子供向けのアニメは、熱狂的なファンを持つ日本人が多く、その他のアニメは全体的に人気が低い傾向にあります。現在最も人気のあるのは「ガールズ＆パンツァー」ですが、この作品は単発コンテンツとして成功しただけでなく、さまざまなジャンルに展開しています。日本で一番人気のアニメは、あなたが予想しているどころか、どんな\n"
          ]
        }
      ]
    },
    {
      "cell_type": "code",
      "source": [
        "# パイプラインの実行\n",
        "def my_print(s):\n",
        "    print(s, end='', flush=True)\n",
        "pipeline.generate(prompt, token_count=200, args=args, callback=my_print)"
      ],
      "metadata": {
        "colab": {
          "base_uri": "https://localhost:8080/",
          "height": 90
        },
        "id": "nVrdXx90Tc4G",
        "outputId": "c17099b3-a444-4a3a-eeb3-54a8d6b4362c"
      },
      "execution_count": 32,
      "outputs": [
        {
          "output_type": "stream",
          "name": "stdout",
          "text": [
            "日本で一番人気のアニメは「マジンガーZ」です。このアニメは、人類を滅亡させた異星人との戦いを描いています。物語は、多くの戦闘シーンと共に展開し、主人公であるハイファ・カルステンが登場するシーンも多く、そのエピソードが魅力的な要素のひとつです。また、ストーリーの進行に合わせて音楽も魅力的な楽曲が用意されており、主人公やその周囲のキャラクターたちが自身の能力を発揮して"
          ]
        },
        {
          "output_type": "execute_result",
          "data": {
            "text/plain": [
              "'日本で一番人気のアニメは「マジンガーZ」です。このアニメは、人類を滅亡させた異星人との戦いを描いています。物語は、多くの戦闘シーンと共に展開し、主人公であるハイファ・カルステンが登場するシーンも多く、そのエピソードが魅力的な要素のひとつです。また、ストーリーの進行に合わせて音楽も魅力的な楽曲が用意されており、主人公やその周囲のキャラクターたちが自身の能力を発揮して'"
            ],
            "application/vnd.google.colaboratory.intrinsic+json": {
              "type": "string"
            }
          },
          "metadata": {},
          "execution_count": 32
        }
      ]
    },
    {
      "cell_type": "code",
      "source": [
        "%%time\n",
        "\n",
        "# LLMの準備\n",
        "llm = RWKV(\n",
        "    model=\"./RWKV-4-Raven-14B-v9-Eng99%-Other1%-20230412-ctx8192.pth\", \n",
        "    strategy=\"cuda fp16\", \n",
        "    tokens_path=\"./20B_tokenizer.json\"\n",
        ")"
      ],
      "metadata": {
        "colab": {
          "base_uri": "https://localhost:8080/",
          "height": 316
        },
        "id": "_j3jqE5sT8Lt",
        "outputId": "801895e2-8456-49cc-f209-7fdcfd637393"
      },
      "execution_count": 34,
      "outputs": [
        {
          "output_type": "error",
          "ename": "NotImplementedError",
          "evalue": "ignored",
          "traceback": [
            "\u001b[0;31m---------------------------------------------------------------------------\u001b[0m",
            "\u001b[0;31mNotImplementedError\u001b[0m                       Traceback (most recent call last)",
            "\u001b[0;32m<ipython-input-34-e5975811bfa7>\u001b[0m in \u001b[0;36m<cell line: 1>\u001b[0;34m()\u001b[0m\n\u001b[0;32m----> 1\u001b[0;31m \u001b[0mget_ipython\u001b[0m\u001b[0;34m(\u001b[0m\u001b[0;34m)\u001b[0m\u001b[0;34m.\u001b[0m\u001b[0msystem\u001b[0m\u001b[0;34m(\u001b[0m\u001b[0;34m'pip install langchain'\u001b[0m\u001b[0;34m)\u001b[0m\u001b[0;34m\u001b[0m\u001b[0;34m\u001b[0m\u001b[0m\n\u001b[0m",
            "\u001b[0;32m/usr/local/lib/python3.10/dist-packages/google/colab/_shell.py\u001b[0m in \u001b[0;36msystem\u001b[0;34m(self, *args, **kwargs)\u001b[0m\n\u001b[1;32m     97\u001b[0m       \u001b[0mkwargs\u001b[0m\u001b[0;34m.\u001b[0m\u001b[0mupdate\u001b[0m\u001b[0;34m(\u001b[0m\u001b[0;34m{\u001b[0m\u001b[0;34m'also_return_output'\u001b[0m\u001b[0;34m:\u001b[0m \u001b[0;32mTrue\u001b[0m\u001b[0;34m}\u001b[0m\u001b[0;34m)\u001b[0m\u001b[0;34m\u001b[0m\u001b[0;34m\u001b[0m\u001b[0m\n\u001b[1;32m     98\u001b[0m \u001b[0;34m\u001b[0m\u001b[0m\n\u001b[0;32m---> 99\u001b[0;31m     \u001b[0moutput\u001b[0m \u001b[0;34m=\u001b[0m \u001b[0m_system_commands\u001b[0m\u001b[0;34m.\u001b[0m\u001b[0m_system_compat\u001b[0m\u001b[0;34m(\u001b[0m\u001b[0mself\u001b[0m\u001b[0;34m,\u001b[0m \u001b[0;34m*\u001b[0m\u001b[0margs\u001b[0m\u001b[0;34m,\u001b[0m \u001b[0;34m**\u001b[0m\u001b[0mkwargs\u001b[0m\u001b[0;34m)\u001b[0m  \u001b[0;31m# pylint:disable=protected-access\u001b[0m\u001b[0;34m\u001b[0m\u001b[0;34m\u001b[0m\u001b[0m\n\u001b[0m\u001b[1;32m    100\u001b[0m \u001b[0;34m\u001b[0m\u001b[0m\n\u001b[1;32m    101\u001b[0m     \u001b[0;32mif\u001b[0m \u001b[0mpip_warn\u001b[0m\u001b[0;34m:\u001b[0m\u001b[0;34m\u001b[0m\u001b[0;34m\u001b[0m\u001b[0m\n",
            "\u001b[0;32m/usr/local/lib/python3.10/dist-packages/google/colab/_system_commands.py\u001b[0m in \u001b[0;36m_system_compat\u001b[0;34m(shell, cmd, also_return_output)\u001b[0m\n\u001b[1;32m    451\u001b[0m   \u001b[0;31m# is expected to call this function, thus adding one level of nesting to the\u001b[0m\u001b[0;34m\u001b[0m\u001b[0;34m\u001b[0m\u001b[0m\n\u001b[1;32m    452\u001b[0m   \u001b[0;31m# stack.\u001b[0m\u001b[0;34m\u001b[0m\u001b[0;34m\u001b[0m\u001b[0m\n\u001b[0;32m--> 453\u001b[0;31m   result = _run_command(\n\u001b[0m\u001b[1;32m    454\u001b[0m       \u001b[0mshell\u001b[0m\u001b[0;34m.\u001b[0m\u001b[0mvar_expand\u001b[0m\u001b[0;34m(\u001b[0m\u001b[0mcmd\u001b[0m\u001b[0;34m,\u001b[0m \u001b[0mdepth\u001b[0m\u001b[0;34m=\u001b[0m\u001b[0;36m2\u001b[0m\u001b[0;34m)\u001b[0m\u001b[0;34m,\u001b[0m \u001b[0mclear_streamed_output\u001b[0m\u001b[0;34m=\u001b[0m\u001b[0;32mFalse\u001b[0m\u001b[0;34m\u001b[0m\u001b[0;34m\u001b[0m\u001b[0m\n\u001b[1;32m    455\u001b[0m   )\n",
            "\u001b[0;32m/usr/local/lib/python3.10/dist-packages/google/colab/_system_commands.py\u001b[0m in \u001b[0;36m_run_command\u001b[0;34m(cmd, clear_streamed_output)\u001b[0m\n\u001b[1;32m    165\u001b[0m   \u001b[0mlocale_encoding\u001b[0m \u001b[0;34m=\u001b[0m \u001b[0mlocale\u001b[0m\u001b[0;34m.\u001b[0m\u001b[0mgetpreferredencoding\u001b[0m\u001b[0;34m(\u001b[0m\u001b[0;34m)\u001b[0m\u001b[0;34m\u001b[0m\u001b[0;34m\u001b[0m\u001b[0m\n\u001b[1;32m    166\u001b[0m   \u001b[0;32mif\u001b[0m \u001b[0mlocale_encoding\u001b[0m \u001b[0;34m!=\u001b[0m \u001b[0m_ENCODING\u001b[0m\u001b[0;34m:\u001b[0m\u001b[0;34m\u001b[0m\u001b[0;34m\u001b[0m\u001b[0m\n\u001b[0;32m--> 167\u001b[0;31m     raise NotImplementedError(\n\u001b[0m\u001b[1;32m    168\u001b[0m         \u001b[0;34m'A UTF-8 locale is required. Got {}'\u001b[0m\u001b[0;34m.\u001b[0m\u001b[0mformat\u001b[0m\u001b[0;34m(\u001b[0m\u001b[0mlocale_encoding\u001b[0m\u001b[0;34m)\u001b[0m\u001b[0;34m\u001b[0m\u001b[0;34m\u001b[0m\u001b[0m\n\u001b[1;32m    169\u001b[0m     )\n",
            "\u001b[0;31mNotImplementedError\u001b[0m: A UTF-8 locale is required. Got ANSI_X3.4-1968"
          ]
        }
      ]
    },
    {
      "cell_type": "code",
      "source": [
        "import locale\n",
        "locale.getpreferredencoding = lambda: \"UTF-8\""
      ],
      "metadata": {
        "id": "rqza8UOsUsdo"
      },
      "execution_count": 40,
      "outputs": []
    },
    {
      "cell_type": "code",
      "source": [
        "# パッケージのインストール\n",
        "!pip install langchain\n"
      ],
      "metadata": {
        "colab": {
          "base_uri": "https://localhost:8080/"
        },
        "id": "_XDws7jHUMMC",
        "outputId": "abc735a2-9a61-4a96-bf63-80a667200a49"
      },
      "execution_count": 41,
      "outputs": [
        {
          "output_type": "stream",
          "name": "stdout",
          "text": [
            "Looking in indexes: https://pypi.org/simple, https://us-python.pkg.dev/colab-wheels/public/simple/\n",
            "Collecting langchain\n",
            "  Downloading langchain-0.0.165-py3-none-any.whl (789 kB)\n",
            "\u001b[2K     \u001b[90m━━━━━━━━━━━━━━━━━━━━━━━━━━━━━━━━━━━━━━\u001b[0m \u001b[32m789.1/789.1 kB\u001b[0m \u001b[31m39.8 MB/s\u001b[0m eta \u001b[36m0:00:00\u001b[0m\n",
            "\u001b[?25hRequirement already satisfied: PyYAML>=5.4.1 in /usr/local/lib/python3.10/dist-packages (from langchain) (6.0)\n",
            "Requirement already satisfied: SQLAlchemy<3,>=1.4 in /usr/local/lib/python3.10/dist-packages (from langchain) (2.0.10)\n",
            "Collecting aiohttp<4.0.0,>=3.8.3 (from langchain)\n",
            "  Downloading aiohttp-3.8.4-cp310-cp310-manylinux_2_17_x86_64.manylinux2014_x86_64.whl (1.0 MB)\n",
            "\u001b[2K     \u001b[90m━━━━━━━━━━━━━━━━━━━━━━━━━━━━━━━━━━━━━━━━\u001b[0m \u001b[32m1.0/1.0 MB\u001b[0m \u001b[31m71.5 MB/s\u001b[0m eta \u001b[36m0:00:00\u001b[0m\n",
            "\u001b[?25hCollecting async-timeout<5.0.0,>=4.0.0 (from langchain)\n",
            "  Downloading async_timeout-4.0.2-py3-none-any.whl (5.8 kB)\n",
            "Collecting dataclasses-json<0.6.0,>=0.5.7 (from langchain)\n",
            "  Downloading dataclasses_json-0.5.7-py3-none-any.whl (25 kB)\n",
            "Requirement already satisfied: numexpr<3.0.0,>=2.8.4 in /usr/local/lib/python3.10/dist-packages (from langchain) (2.8.4)\n",
            "Requirement already satisfied: numpy<2,>=1 in /usr/local/lib/python3.10/dist-packages (from langchain) (1.22.4)\n",
            "Collecting openapi-schema-pydantic<2.0,>=1.2 (from langchain)\n",
            "  Downloading openapi_schema_pydantic-1.2.4-py3-none-any.whl (90 kB)\n",
            "\u001b[2K     \u001b[90m━━━━━━━━━━━━━━━━━━━━━━━━━━━━━━━━━━━━━━━━\u001b[0m \u001b[32m90.0/90.0 kB\u001b[0m \u001b[31m13.2 MB/s\u001b[0m eta \u001b[36m0:00:00\u001b[0m\n",
            "\u001b[?25hRequirement already satisfied: pydantic<2,>=1 in /usr/local/lib/python3.10/dist-packages (from langchain) (1.10.7)\n",
            "Requirement already satisfied: requests<3,>=2 in /usr/local/lib/python3.10/dist-packages (from langchain) (2.27.1)\n",
            "Requirement already satisfied: tenacity<9.0.0,>=8.1.0 in /usr/local/lib/python3.10/dist-packages (from langchain) (8.2.2)\n",
            "Requirement already satisfied: tqdm>=4.48.0 in /usr/local/lib/python3.10/dist-packages (from langchain) (4.65.0)\n",
            "Requirement already satisfied: attrs>=17.3.0 in /usr/local/lib/python3.10/dist-packages (from aiohttp<4.0.0,>=3.8.3->langchain) (23.1.0)\n",
            "Requirement already satisfied: charset-normalizer<4.0,>=2.0 in /usr/local/lib/python3.10/dist-packages (from aiohttp<4.0.0,>=3.8.3->langchain) (2.0.12)\n",
            "Collecting multidict<7.0,>=4.5 (from aiohttp<4.0.0,>=3.8.3->langchain)\n",
            "  Downloading multidict-6.0.4-cp310-cp310-manylinux_2_17_x86_64.manylinux2014_x86_64.whl (114 kB)\n",
            "\u001b[2K     \u001b[90m━━━━━━━━━━━━━━━━━━━━━━━━━━━━━━━━━━━━━━\u001b[0m \u001b[32m114.5/114.5 kB\u001b[0m \u001b[31m17.2 MB/s\u001b[0m eta \u001b[36m0:00:00\u001b[0m\n",
            "\u001b[?25hCollecting yarl<2.0,>=1.0 (from aiohttp<4.0.0,>=3.8.3->langchain)\n",
            "  Downloading yarl-1.9.2-cp310-cp310-manylinux_2_17_x86_64.manylinux2014_x86_64.whl (268 kB)\n",
            "\u001b[2K     \u001b[90m━━━━━━━━━━━━━━━━━━━━━━━━━━━━━━━━━━━━━━\u001b[0m \u001b[32m268.8/268.8 kB\u001b[0m \u001b[31m35.6 MB/s\u001b[0m eta \u001b[36m0:00:00\u001b[0m\n",
            "\u001b[?25hCollecting frozenlist>=1.1.1 (from aiohttp<4.0.0,>=3.8.3->langchain)\n",
            "  Downloading frozenlist-1.3.3-cp310-cp310-manylinux_2_5_x86_64.manylinux1_x86_64.manylinux_2_17_x86_64.manylinux2014_x86_64.whl (149 kB)\n",
            "\u001b[2K     \u001b[90m━━━━━━━━━━━━━━━━━━━━━━━━━━━━━━━━━━━━━━\u001b[0m \u001b[32m149.6/149.6 kB\u001b[0m \u001b[31m23.9 MB/s\u001b[0m eta \u001b[36m0:00:00\u001b[0m\n",
            "\u001b[?25hCollecting aiosignal>=1.1.2 (from aiohttp<4.0.0,>=3.8.3->langchain)\n",
            "  Downloading aiosignal-1.3.1-py3-none-any.whl (7.6 kB)\n",
            "Collecting marshmallow<4.0.0,>=3.3.0 (from dataclasses-json<0.6.0,>=0.5.7->langchain)\n",
            "  Downloading marshmallow-3.19.0-py3-none-any.whl (49 kB)\n",
            "\u001b[2K     \u001b[90m━━━━━━━━━━━━━━━━━━━━━━━━━━━━━━━━━━━━━━━━\u001b[0m \u001b[32m49.1/49.1 kB\u001b[0m \u001b[31m7.3 MB/s\u001b[0m eta \u001b[36m0:00:00\u001b[0m\n",
            "\u001b[?25hCollecting marshmallow-enum<2.0.0,>=1.5.1 (from dataclasses-json<0.6.0,>=0.5.7->langchain)\n",
            "  Downloading marshmallow_enum-1.5.1-py2.py3-none-any.whl (4.2 kB)\n",
            "Collecting typing-inspect>=0.4.0 (from dataclasses-json<0.6.0,>=0.5.7->langchain)\n",
            "  Downloading typing_inspect-0.8.0-py3-none-any.whl (8.7 kB)\n",
            "Requirement already satisfied: typing-extensions>=4.2.0 in /usr/local/lib/python3.10/dist-packages (from pydantic<2,>=1->langchain) (4.5.0)\n",
            "Requirement already satisfied: urllib3<1.27,>=1.21.1 in /usr/local/lib/python3.10/dist-packages (from requests<3,>=2->langchain) (1.26.15)\n",
            "Requirement already satisfied: certifi>=2017.4.17 in /usr/local/lib/python3.10/dist-packages (from requests<3,>=2->langchain) (2022.12.7)\n",
            "Requirement already satisfied: idna<4,>=2.5 in /usr/local/lib/python3.10/dist-packages (from requests<3,>=2->langchain) (3.4)\n",
            "Requirement already satisfied: greenlet!=0.4.17 in /usr/local/lib/python3.10/dist-packages (from SQLAlchemy<3,>=1.4->langchain) (2.0.2)\n",
            "Requirement already satisfied: packaging>=17.0 in /usr/local/lib/python3.10/dist-packages (from marshmallow<4.0.0,>=3.3.0->dataclasses-json<0.6.0,>=0.5.7->langchain) (23.1)\n",
            "Collecting mypy-extensions>=0.3.0 (from typing-inspect>=0.4.0->dataclasses-json<0.6.0,>=0.5.7->langchain)\n",
            "  Downloading mypy_extensions-1.0.0-py3-none-any.whl (4.7 kB)\n",
            "Installing collected packages: mypy-extensions, multidict, marshmallow, frozenlist, async-timeout, yarl, typing-inspect, openapi-schema-pydantic, marshmallow-enum, aiosignal, dataclasses-json, aiohttp, langchain\n",
            "Successfully installed aiohttp-3.8.4 aiosignal-1.3.1 async-timeout-4.0.2 dataclasses-json-0.5.7 frozenlist-1.3.3 langchain-0.0.165 marshmallow-3.19.0 marshmallow-enum-1.5.1 multidict-6.0.4 mypy-extensions-1.0.0 openapi-schema-pydantic-1.2.4 typing-inspect-0.8.0 yarl-1.9.2\n"
          ]
        }
      ]
    },
    {
      "cell_type": "code",
      "source": [
        "from langchain.llms import RWKV\n",
        "\n",
        "# Instructプロンプトの生成\n",
        "def generate_prompt(instruction, input=None):\n",
        "    if input:\n",
        "        return f\"\"\"Below is an instruction that describes a task, paired with an input that provides further context. Write a response that appropriately completes the request.\n",
        "\n",
        "# Instruction:\n",
        "{instruction}\n",
        "\n",
        "# Input:\n",
        "{input}\n",
        "\n",
        "# Response:\n",
        "\"\"\"\n",
        "    else:\n",
        "        return f\"\"\"Below is an instruction that describes a task. Write a response that appropriately completes the request.\n",
        "\n",
        "# Instruction:\n",
        "{instruction}\n",
        "\n",
        "# Response:\n",
        "\"\"\""
      ],
      "metadata": {
        "id": "BrE2KPFLVUMv"
      },
      "execution_count": 45,
      "outputs": []
    },
    {
      "cell_type": "code",
      "source": [
        "llm =  RWKV(\n",
        "    model=\"./RWKV-4-Raven-7B-v7-Eng-20230404-ctx4096.pth\", \n",
        "    strategy=\"cuda fp16\",\n",
        "    tokens_path= \"./20B_tokenizer.json\"\n",
        ")"
      ],
      "metadata": {
        "colab": {
          "base_uri": "https://localhost:8080/"
        },
        "id": "kuuxO0itWSWz",
        "outputId": "c59a9ac0-f220-4759-c2e3-0d5ac6d2649d"
      },
      "execution_count": 47,
      "outputs": [
        {
          "output_type": "stream",
          "name": "stdout",
          "text": [
            "RWKV_JIT_ON 1 RWKV_CUDA_ON 0 RESCALE_LAYER 6\n",
            "\n",
            "Loading ./RWKV-4-Raven-7B-v7-Eng-20230404-ctx4096.pth ...\n",
            "Strategy: (total 32+1=33 layers)\n",
            "* cuda [float16, float16], store 33 layers\n",
            "0-cuda-float16-float16 1-cuda-float16-float16 2-cuda-float16-float16 3-cuda-float16-float16 4-cuda-float16-float16 5-cuda-float16-float16 6-cuda-float16-float16 7-cuda-float16-float16 8-cuda-float16-float16 9-cuda-float16-float16 10-cuda-float16-float16 11-cuda-float16-float16 12-cuda-float16-float16 13-cuda-float16-float16 14-cuda-float16-float16 15-cuda-float16-float16 16-cuda-float16-float16 17-cuda-float16-float16 18-cuda-float16-float16 19-cuda-float16-float16 20-cuda-float16-float16 21-cuda-float16-float16 22-cuda-float16-float16 23-cuda-float16-float16 24-cuda-float16-float16 25-cuda-float16-float16 26-cuda-float16-float16 27-cuda-float16-float16 28-cuda-float16-float16 29-cuda-float16-float16 30-cuda-float16-float16 31-cuda-float16-float16 32-cuda-float16-float16 \n",
            "emb.weight                        f16      cpu  50277  4096 \n",
            "blocks.0.ln1.weight               f16   cuda:0   4096       \n",
            "blocks.0.ln1.bias                 f16   cuda:0   4096       \n",
            "blocks.0.ln2.weight               f16   cuda:0   4096       \n",
            "blocks.0.ln2.bias                 f16   cuda:0   4096       \n",
            "blocks.0.att.time_decay           f32   cuda:0   4096       \n",
            "blocks.0.att.time_first           f32   cuda:0   4096       \n",
            "blocks.0.att.time_mix_k           f16   cuda:0   4096       \n",
            "blocks.0.att.time_mix_v           f16   cuda:0   4096       \n",
            "blocks.0.att.time_mix_r           f16   cuda:0   4096       \n",
            "blocks.0.att.key.weight           f16   cuda:0   4096  4096 \n",
            "blocks.0.att.value.weight         f16   cuda:0   4096  4096 \n",
            "blocks.0.att.receptance.weight    f16   cuda:0   4096  4096 \n",
            "blocks.0.att.output.weight        f16   cuda:0   4096  4096 \n",
            "blocks.0.ffn.time_mix_k           f16   cuda:0   4096       \n",
            "blocks.0.ffn.time_mix_r           f16   cuda:0   4096       \n",
            "blocks.0.ffn.key.weight           f16   cuda:0   4096 16384 \n",
            "blocks.0.ffn.receptance.weight    f16   cuda:0   4096  4096 \n",
            "blocks.0.ffn.value.weight         f16   cuda:0  16384  4096 \n",
            "............................................................................................................................................................................................................................................................................................................................................................................................................................................................................................................................................................\n",
            "blocks.31.ln1.weight              f16   cuda:0   4096       \n",
            "blocks.31.ln1.bias                f16   cuda:0   4096       \n",
            "blocks.31.ln2.weight              f16   cuda:0   4096       \n",
            "blocks.31.ln2.bias                f16   cuda:0   4096       \n",
            "blocks.31.att.time_decay          f32   cuda:0   4096       \n",
            "blocks.31.att.time_first          f32   cuda:0   4096       \n",
            "blocks.31.att.time_mix_k          f16   cuda:0   4096       \n",
            "blocks.31.att.time_mix_v          f16   cuda:0   4096       \n",
            "blocks.31.att.time_mix_r          f16   cuda:0   4096       \n",
            "blocks.31.att.key.weight          f16   cuda:0   4096  4096 \n",
            "blocks.31.att.value.weight        f16   cuda:0   4096  4096 \n",
            "blocks.31.att.receptance.weight   f16   cuda:0   4096  4096 \n",
            "blocks.31.att.output.weight       f16   cuda:0   4096  4096 \n",
            "blocks.31.ffn.time_mix_k          f16   cuda:0   4096       \n",
            "blocks.31.ffn.time_mix_r          f16   cuda:0   4096       \n",
            "blocks.31.ffn.key.weight          f16   cuda:0   4096 16384 \n",
            "blocks.31.ffn.receptance.weight   f16   cuda:0   4096  4096 \n",
            "blocks.31.ffn.value.weight        f16   cuda:0  16384  4096 \n",
            "ln_out.weight                     f16   cuda:0   4096       \n",
            "ln_out.bias                       f16   cuda:0   4096       \n",
            "head.weight                       f16   cuda:0   4096 50277 \n"
          ]
        }
      ]
    },
    {
      "cell_type": "code",
      "source": [
        "print(llm(generate_prompt(\"日本の首都は？\")))"
      ],
      "metadata": {
        "colab": {
          "base_uri": "https://localhost:8080/"
        },
        "id": "CQy_kX-sVk7N",
        "outputId": "4a37cba6-ba86-471a-8ab1-be41cab89d60"
      },
      "execution_count": 48,
      "outputs": [
        {
          "output_type": "stream",
          "name": "stdout",
          "text": [
            "日本の首都は東京です。\n"
          ]
        }
      ]
    },
    {
      "cell_type": "code",
      "source": [
        "print(llm(generate_prompt(\"日本で一番人気のアニメは？\")))"
      ],
      "metadata": {
        "colab": {
          "base_uri": "https://localhost:8080/"
        },
        "id": "6ONfzFZuWtOB",
        "outputId": "5bea3075-1dba-472e-d291-37c37f8f64e2"
      },
      "execution_count": 49,
      "outputs": [
        {
          "output_type": "stream",
          "name": "stdout",
          "text": [
            "アニメの人気は日本で一番高いかもしれませんが、世界的に見てもまだまだ知名度が低いと言えます。一般的な話題としては「カルト」として知られる『ラブライブ！』や『ハッカドール』などがありますが、実際にどのような人気を誇っているのかはよく分かりません。現在、中国や韓国などで流行しているアニメ作品もありますが、日本人にとってはまだ少数派といえるものです。\n"
          ]
        }
      ]
    },
    {
      "cell_type": "code",
      "source": [
        "qa_prompt=\"\"\"Context information is below. \n",
        "---------------------\n",
        "guitar hero\n",
        "A handle name used by one person when working on a video posting site. It can be said that it is a symbol of the desire for approval that one person can not usually show in public, but is far from being a real person. is attached [Note 11][38]. He posts cover videos of popular bands shot from angles that hide his face, and the number of registrants on the posting site is nearly 80,000 [39]. He has also attracted attention from music insiders like Poison Yami. The video was monetized by Naoki, and was used for the cost of replacing the broken guitar at the school festival live [40].\n",
        "With his current ability in live performances, he thinks that even if he gathers fans under the name of Guitar Hero, he cannot perform enough to satisfy them. No [Note 12].\n",
        "---------------------\n",
        "Given the context information and not prior knowledge, answer the question: Hitori-chan's favorite instrument?\"\"\"\n",
        "\n",
        "print(llm(qa_prompt))"
      ],
      "metadata": {
        "colab": {
          "base_uri": "https://localhost:8080/"
        },
        "id": "h-8i6sqIW__i",
        "outputId": "8baa5727-4b7f-4fdf-8183-797714a3596b"
      },
      "execution_count": 50,
      "outputs": [
        {
          "output_type": "stream",
          "name": "stdout",
          "text": [
            "\n",
            "\n",
            "Bot: The answer to the question \"What is Hitori-chan's favorite instrument?\" can be inferred from the context information provided in the text. It is not explicitly stated in the text, but it can be inferred that Hitori-chan prefers guitars over other instruments. This inference can be made based on the following reasons:\n",
            "1. The video titled \"Hitori-chan's favorite guitar\" shows Hitori-chan playing a guitar while wearing a school uniform and covering his face with his hands [Note 11]. This suggests that he uses a guitar as his primary instrument for music performance.\n",
            "2. The title of the video, \"Hitori-chan's favorite guitar,\" also suggests that Hitori-chan has a preference for\n"
          ]
        }
      ]
    },
    {
      "cell_type": "code",
      "source": [
        "instruction=\"Hitori-chan's favorite instrument?\"\n",
        "\n",
        "input=\"\"\"guitar hero\n",
        "A handle name used by one person when working on a video posting site. It can be said that it is a symbol of the desire for approval that one person can not usually show in public, but is far from being a real person. is attached [Note 11][38]. He posts cover videos of popular bands shot from angles that hide his face, and the number of registrants on the posting site is nearly 80,000 [39]. He has also attracted attention from music insiders like Poison Yami. The video was monetized by Naoki, and was used for the cost of replacing the broken guitar at the school festival live [40].\n",
        "With his current ability in live performances, he thinks that even if he gathers fans under the name of Guitar Hero, he cannot perform enough to satisfy them. No [Note 12].\"\"\"\n",
        "\n",
        "print(llm(generate_prompt(instruction=instruction, input=input)))"
      ],
      "metadata": {
        "colab": {
          "base_uri": "https://localhost:8080/"
        },
        "id": "xyBKMkfHXF94",
        "outputId": "00684d58-67cb-4c59-981e-a70fb377d367"
      },
      "execution_count": 51,
      "outputs": [
        {
          "output_type": "stream",
          "name": "stdout",
          "text": [
            "Hitori-chan's handle name is Guitar Hero. He is a character created by Naoki who has the ability to perform cover videos of popular bands shot from angles that hide his face. His number of registrants on the posting site used for monetizing his videos is nearly 80,000 [39]. However, he does not have enough followers to perform in public and earn money through cover videos. He also has a strong desire to become famous through music, but cannot realize it in real life.\n",
            "[Note 11]: https://en.wikipedia.org/wiki/Guitar_Hero\n",
            "[Note 12]: https://en.wikipedia.org/wiki/Poison_Yami\n",
            "[38]: https://www.youtube.com/watch?v\n"
          ]
        }
      ]
    },
    {
      "cell_type": "code",
      "source": [
        "instruction=\"What is Hitori-chan's handle name?\"\n",
        "\n",
        "input=\"\"\"guitar hero\n",
        "A handle name used by one person when working on a video posting site. It can be said that it is a symbol of the desire for approval that one person can not usually show in public, but is far from being a real person. is attached [Note 11][38]. He posts cover videos of popular bands shot from angles that hide his face, and the number of registrants on the posting site is nearly 80,000 [39]. He has also attracted attention from music insiders like Poison Yami. The video was monetized by Naoki, and was used for the cost of replacing the broken guitar at the school festival live [40].\n",
        "With his current ability in live performances, he thinks that even if he gathers fans under the name of Guitar Hero, he cannot perform enough to satisfy them. No [Note 12].\"\"\"\n",
        "\n",
        "print(llm(generate_prompt(instruction=instruction, input=input)))"
      ],
      "metadata": {
        "colab": {
          "base_uri": "https://localhost:8080/"
        },
        "id": "jXQcngkeXL8C",
        "outputId": "8e137db2-508e-485f-b2cc-faffa0c27733"
      },
      "execution_count": 52,
      "outputs": [
        {
          "output_type": "stream",
          "name": "stdout",
          "text": [
            "Hitori-chan is a handle name used by one person when performing cover videos of popular bands shot from angles that hide their faces. The handle name is often used to express a desire for approval from music insiders like Poison Yami, and the number of registrants on the posting site is nearly 80,000 [39]. He posts cover videos of popular bands shot from angles that hide his face, and the number of registrants on the posting site is nearly 80,000 [40]. He has also attracted attention from music insiders like Poison Yami. The video was monetized by Naoki, and was used for the cost of replacing the broken guitar at the live performances held by Guitar Hero [41]. No one can perform enough to satisfy them.\n"
          ]
        }
      ]
    },
    {
      "cell_type": "code",
      "source": [
        "instruction=\"How many subscribers does Guitar Hero have?\"\n",
        "\n",
        "input=\"\"\"guitar hero\n",
        "A handle name used by one person when working on a video posting site. It can be said that it is a symbol of the desire for approval that one person can not usually show in public, but is far from being a real person. is attached [Note 11][38]. He posts cover videos of popular bands shot from angles that hide his face, and the number of registrants on the posting site is nearly 80,000 [39]. He has also attracted attention from music insiders like Poison Yami. The video was monetized by Naoki, and was used for the cost of replacing the broken guitar at the school festival live [40].\n",
        "With his current ability in live performances, he thinks that even if he gathers fans under the name of Guitar Hero, he cannot perform enough to satisfy them. No [Note 12].\"\"\"\n",
        "\n",
        "print(llm(generate_prompt(instruction=instruction, input=input)))"
      ],
      "metadata": {
        "colab": {
          "base_uri": "https://localhost:8080/"
        },
        "id": "yQGLV-VrXQGS",
        "outputId": "d9cf1050-516b-41fc-ca4a-1ea873000f9c"
      },
      "execution_count": 53,
      "outputs": [
        {
          "output_type": "stream",
          "name": "stdout",
          "text": [
            "Guitar Hero is a character in the game \"Rock Band\" created by Harmonix Music Systems, Inc. The character was created to be a mascot for the game and to represent the music of popular bands such as Guns N' Roses and Green Day. The name \"Guitar Hero\" was chosen because it represented the idea of playing music with a guitar, which is one of the most popular musical instruments in the world.\n",
            "In real life, Guitar Hero is a registered trademark of Harmonix Music Systems, Inc., and its use without permission from Harmonix Music Systems, Inc. may violate copyright laws. It is not clear whether or not Naoki has obtained permission from Harmonix Music Systems, Inc. to use the name \"Guitar\n"
          ]
        }
      ]
    }
  ]
}